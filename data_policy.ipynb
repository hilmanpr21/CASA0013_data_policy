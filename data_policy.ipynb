{
 "cells": [
  {
   "cell_type": "markdown",
   "id": "be0b8152-916b-434c-87e8-3a0d24c80496",
   "metadata": {},
   "source": [
    "# CASA0013 Data and Policy\n",
    "Investigating the relationship between Airbnb and crime in London"
   ]
  }
 ],
 "metadata": {
  "kernelspec": {
   "display_name": "Python 3 (ipykernel)",
   "language": "python",
   "name": "python3"
  },
  "language_info": {
   "codemirror_mode": {
    "name": "ipython",
    "version": 3
   },
   "file_extension": ".py",
   "mimetype": "text/x-python",
   "name": "python",
   "nbconvert_exporter": "python",
   "pygments_lexer": "ipython3",
   "version": "3.10.5"
  }
 },
 "nbformat": 4,
 "nbformat_minor": 5
}
