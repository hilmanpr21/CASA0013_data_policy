{
 "cells": [
  {
   "cell_type": "markdown",
   "id": "be0b8152-916b-434c-87e8-3a0d24c80496",
   "metadata": {},
   "source": [
    "# CASA0013 Data and Policy\n",
    "Investigating the relationship between Airbnb and crime in London"
   ]
  },
  {
   "cell_type": "markdown",
   "id": "47b5a274-aa1d-42ac-b34c-938a8593a07a",
   "metadata": {},
   "source": [
    "## Import packages"
   ]
  },
  {
   "cell_type": "code",
   "execution_count": 1,
   "id": "50f4986f-9d5d-456d-8c71-71564d92dc24",
   "metadata": {},
   "outputs": [],
   "source": [
    "import numpy as np\n",
    "import pandas as pd"
   ]
  },
  {
   "cell_type": "markdown",
   "id": "539191bf-094d-493f-8c10-edd00fb36236",
   "metadata": {},
   "source": [
    "## Reading in the data\n",
    "Datasets to be used for this analysis\n",
    "- Airbnb data from Inside Airbnb\n",
    "- Crime data "
   ]
  },
  {
   "cell_type": "code",
   "execution_count": 2,
   "id": "f70c7e92-b044-4a7b-b58a-30673c08ba85",
   "metadata": {},
   "outputs": [
    {
     "name": "stdout",
     "output_type": "stream",
     "text": [
      "Data frame is 69,351 x 75\n"
     ]
    }
   ],
   "source": [
    "# Set download URL\n",
    "host = 'https://orca.casa.ucl.ac.uk' # where the data is stored\n",
    "path = '~jreades/data/2022-09-10-listings.csv.gz' # compressed using gzip\n",
    "url  = f'{host}/{path}'\n",
    "\n",
    "# your code here\n",
    "df = pd.read_csv(url, compression='gzip', low_memory=False)\n",
    "print(f\"Data frame is {df.shape[0]:,} x {df.shape[1]}\")"
   ]
  },
  {
   "cell_type": "code",
   "execution_count": 4,
   "id": "6c126cec-4a50-4b1a-93f6-46ac1c0b324a",
   "metadata": {},
   "outputs": [
    {
     "name": "stdout",
     "output_type": "stream",
     "text": [
      "Data frame is 102,755 x 29\n"
     ]
    }
   ],
   "source": [
    "crime_url = \"https://data.london.gov.uk/download/recorded_crime_summary/644a9e0d-75a3-4c3a-91ad-03d2a7cb8f8e/MPS%20LSOA%20Level%20Crime%20%28most%20recent%2024%20months%29.csv\"\n",
    "crime = pd.read_csv(crime_url)\n",
    "print(f\"Data frame is {crime.shape[0]:,} x {crime.shape[1]}\")"
   ]
  },
  {
   "cell_type": "code",
   "execution_count": 6,
   "id": "2ace36a7-e21e-436c-91cf-d1782671301c",
   "metadata": {},
   "outputs": [
    {
     "data": {
      "text/html": [
       "<div>\n",
       "<style scoped>\n",
       "    .dataframe tbody tr th:only-of-type {\n",
       "        vertical-align: middle;\n",
       "    }\n",
       "\n",
       "    .dataframe tbody tr th {\n",
       "        vertical-align: top;\n",
       "    }\n",
       "\n",
       "    .dataframe thead th {\n",
       "        text-align: right;\n",
       "    }\n",
       "</style>\n",
       "<table border=\"1\" class=\"dataframe\">\n",
       "  <thead>\n",
       "    <tr style=\"text-align: right;\">\n",
       "      <th></th>\n",
       "      <th>LSOA Code</th>\n",
       "      <th>LSOA Name</th>\n",
       "      <th>Borough</th>\n",
       "      <th>Major Category</th>\n",
       "      <th>Minor Category</th>\n",
       "      <th>202011</th>\n",
       "      <th>202012</th>\n",
       "      <th>202101</th>\n",
       "      <th>202102</th>\n",
       "      <th>202103</th>\n",
       "      <th>...</th>\n",
       "      <th>202201</th>\n",
       "      <th>202202</th>\n",
       "      <th>202203</th>\n",
       "      <th>202204</th>\n",
       "      <th>202205</th>\n",
       "      <th>202206</th>\n",
       "      <th>202207</th>\n",
       "      <th>202208</th>\n",
       "      <th>202209</th>\n",
       "      <th>202210</th>\n",
       "    </tr>\n",
       "  </thead>\n",
       "  <tbody>\n",
       "    <tr>\n",
       "      <th>0</th>\n",
       "      <td>E01000006</td>\n",
       "      <td>Barking and Dagenham 016A</td>\n",
       "      <td>Barking and Dagenham</td>\n",
       "      <td>Arson and Criminal Damage</td>\n",
       "      <td>Criminal Damage</td>\n",
       "      <td>0</td>\n",
       "      <td>0</td>\n",
       "      <td>1</td>\n",
       "      <td>1</td>\n",
       "      <td>0</td>\n",
       "      <td>...</td>\n",
       "      <td>2</td>\n",
       "      <td>1</td>\n",
       "      <td>0</td>\n",
       "      <td>0</td>\n",
       "      <td>0</td>\n",
       "      <td>0</td>\n",
       "      <td>1</td>\n",
       "      <td>1</td>\n",
       "      <td>0</td>\n",
       "      <td>0</td>\n",
       "    </tr>\n",
       "    <tr>\n",
       "      <th>1</th>\n",
       "      <td>E01000006</td>\n",
       "      <td>Barking and Dagenham 016A</td>\n",
       "      <td>Barking and Dagenham</td>\n",
       "      <td>Burglary</td>\n",
       "      <td>Burglary Business and Community</td>\n",
       "      <td>0</td>\n",
       "      <td>0</td>\n",
       "      <td>0</td>\n",
       "      <td>0</td>\n",
       "      <td>0</td>\n",
       "      <td>...</td>\n",
       "      <td>0</td>\n",
       "      <td>0</td>\n",
       "      <td>0</td>\n",
       "      <td>0</td>\n",
       "      <td>0</td>\n",
       "      <td>0</td>\n",
       "      <td>0</td>\n",
       "      <td>0</td>\n",
       "      <td>0</td>\n",
       "      <td>0</td>\n",
       "    </tr>\n",
       "    <tr>\n",
       "      <th>2</th>\n",
       "      <td>E01000006</td>\n",
       "      <td>Barking and Dagenham 016A</td>\n",
       "      <td>Barking and Dagenham</td>\n",
       "      <td>Burglary</td>\n",
       "      <td>Domestic Burglary</td>\n",
       "      <td>4</td>\n",
       "      <td>1</td>\n",
       "      <td>1</td>\n",
       "      <td>0</td>\n",
       "      <td>0</td>\n",
       "      <td>...</td>\n",
       "      <td>0</td>\n",
       "      <td>0</td>\n",
       "      <td>1</td>\n",
       "      <td>0</td>\n",
       "      <td>0</td>\n",
       "      <td>0</td>\n",
       "      <td>0</td>\n",
       "      <td>0</td>\n",
       "      <td>0</td>\n",
       "      <td>0</td>\n",
       "    </tr>\n",
       "    <tr>\n",
       "      <th>3</th>\n",
       "      <td>E01000006</td>\n",
       "      <td>Barking and Dagenham 016A</td>\n",
       "      <td>Barking and Dagenham</td>\n",
       "      <td>Drug Offences</td>\n",
       "      <td>Drug Trafficking</td>\n",
       "      <td>0</td>\n",
       "      <td>0</td>\n",
       "      <td>0</td>\n",
       "      <td>1</td>\n",
       "      <td>0</td>\n",
       "      <td>...</td>\n",
       "      <td>0</td>\n",
       "      <td>0</td>\n",
       "      <td>0</td>\n",
       "      <td>0</td>\n",
       "      <td>0</td>\n",
       "      <td>0</td>\n",
       "      <td>0</td>\n",
       "      <td>0</td>\n",
       "      <td>0</td>\n",
       "      <td>0</td>\n",
       "    </tr>\n",
       "    <tr>\n",
       "      <th>4</th>\n",
       "      <td>E01000006</td>\n",
       "      <td>Barking and Dagenham 016A</td>\n",
       "      <td>Barking and Dagenham</td>\n",
       "      <td>Drug Offences</td>\n",
       "      <td>Possession of Drugs</td>\n",
       "      <td>0</td>\n",
       "      <td>0</td>\n",
       "      <td>0</td>\n",
       "      <td>2</td>\n",
       "      <td>3</td>\n",
       "      <td>...</td>\n",
       "      <td>5</td>\n",
       "      <td>2</td>\n",
       "      <td>1</td>\n",
       "      <td>1</td>\n",
       "      <td>2</td>\n",
       "      <td>0</td>\n",
       "      <td>0</td>\n",
       "      <td>1</td>\n",
       "      <td>0</td>\n",
       "      <td>4</td>\n",
       "    </tr>\n",
       "  </tbody>\n",
       "</table>\n",
       "<p>5 rows × 29 columns</p>\n",
       "</div>"
      ],
      "text/plain": [
       "   LSOA Code                  LSOA Name               Borough  \\\n",
       "0  E01000006  Barking and Dagenham 016A  Barking and Dagenham   \n",
       "1  E01000006  Barking and Dagenham 016A  Barking and Dagenham   \n",
       "2  E01000006  Barking and Dagenham 016A  Barking and Dagenham   \n",
       "3  E01000006  Barking and Dagenham 016A  Barking and Dagenham   \n",
       "4  E01000006  Barking and Dagenham 016A  Barking and Dagenham   \n",
       "\n",
       "              Major Category                   Minor Category  202011  202012  \\\n",
       "0  Arson and Criminal Damage                  Criminal Damage       0       0   \n",
       "1                   Burglary  Burglary Business and Community       0       0   \n",
       "2                   Burglary                Domestic Burglary       4       1   \n",
       "3              Drug Offences                 Drug Trafficking       0       0   \n",
       "4              Drug Offences              Possession of Drugs       0       0   \n",
       "\n",
       "   202101  202102  202103  ...  202201  202202  202203  202204  202205  \\\n",
       "0       1       1       0  ...       2       1       0       0       0   \n",
       "1       0       0       0  ...       0       0       0       0       0   \n",
       "2       1       0       0  ...       0       0       1       0       0   \n",
       "3       0       1       0  ...       0       0       0       0       0   \n",
       "4       0       2       3  ...       5       2       1       1       2   \n",
       "\n",
       "   202206  202207  202208  202209  202210  \n",
       "0       0       1       1       0       0  \n",
       "1       0       0       0       0       0  \n",
       "2       0       0       0       0       0  \n",
       "3       0       0       0       0       0  \n",
       "4       0       0       1       0       4  \n",
       "\n",
       "[5 rows x 29 columns]"
      ]
     },
     "execution_count": 6,
     "metadata": {},
     "output_type": "execute_result"
    }
   ],
   "source": [
    "crime.head(5)"
   ]
  },
  {
   "cell_type": "code",
   "execution_count": 8,
   "id": "fcddce7b-d4b2-4a33-8ad0-ff3b751c7f3d",
   "metadata": {},
   "outputs": [
    {
     "name": "stdout",
     "output_type": "stream",
     "text": [
      "Data frame is 146,354 x 132\n"
     ]
    }
   ],
   "source": [
    "crime_historic_url = \"https://data.london.gov.uk/download/recorded_crime_summary/9bb3efe6-98fb-47c1-af3e-3be721e8a1cd/MPS%20LSOA%20Level%20Crime%20%28Historical%29.csv\"\n",
    "crime_historic = pd.read_csv(crime_historic_url)\n",
    "print(f\"Data frame is {crime_historic.shape[0]:,} x {crime_historic.shape[1]}\")"
   ]
  },
  {
   "cell_type": "code",
   "execution_count": 11,
   "id": "8ed55b01-9e20-4d92-89e0-bd87d9b664f2",
   "metadata": {},
   "outputs": [
    {
     "name": "stdout",
     "output_type": "stream",
     "text": [
      "Data frame is 4,837 x 277\n"
     ]
    },
    {
     "name": "stderr",
     "output_type": "stream",
     "text": [
      "/tmp/ipykernel_110/2548509382.py:2: DtypeWarning: Columns (174,175,176,178,189,253,254) have mixed types. Specify dtype option on import or set low_memory=False.\n",
      "  lsoa_atlas = pd.read_csv(lsoa_atlas_url, encoding = 'unicode_escape')\n"
     ]
    }
   ],
   "source": [
    "lsoa_atlas_url = \"https://data.london.gov.uk/download/lsoa-atlas/0193f884-2ccd-49c2-968e-28aa3b1c480d/lsoa-data.csv\"\n",
    "lsoa_atlas = pd.read_csv(lsoa_atlas_url, encoding = 'unicode_escape')\n",
    "print(f\"Data frame is {lsoa_atlas.shape[0]:,} x {lsoa_atlas.shape[1]}\")"
   ]
  }
 ],
 "metadata": {
  "kernelspec": {
   "display_name": "Python 3 (ipykernel)",
   "language": "python",
   "name": "python3"
  },
  "language_info": {
   "codemirror_mode": {
    "name": "ipython",
    "version": 3
   },
   "file_extension": ".py",
   "mimetype": "text/x-python",
   "name": "python",
   "nbconvert_exporter": "python",
   "pygments_lexer": "ipython3",
   "version": "3.10.5"
  }
 },
 "nbformat": 4,
 "nbformat_minor": 5
}
